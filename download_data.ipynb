{
  "nbformat": 4,
  "nbformat_minor": 0,
  "metadata": {
    "colab": {
      "provenance": [],
      "authorship_tag": "ABX9TyMfs1wdj0j7H9AQFkYwrX2q",
      "include_colab_link": true
    },
    "kernelspec": {
      "name": "python3",
      "display_name": "Python 3"
    },
    "language_info": {
      "name": "python"
    }
  },
  "cells": [
    {
      "cell_type": "markdown",
      "metadata": {
        "id": "view-in-github",
        "colab_type": "text"
      },
      "source": [
        "<a href=\"https://colab.research.google.com/github/rezamohamadlo/Yogo-Pose-Estimation-With-Inceptionv3/blob/main/download_data.ipynb\" target=\"_parent\"><img src=\"https://colab.research.google.com/assets/colab-badge.svg\" alt=\"Open In Colab\"/></a>"
      ]
    },
    {
      "cell_type": "code",
      "execution_count": 1,
      "metadata": {
        "colab": {
          "base_uri": "https://localhost:8080/"
        },
        "id": "5yPa8vjfxgQV",
        "outputId": "e42f0e33-2ba0-4564-ea1a-24afac816ba8"
      },
      "outputs": [
        {
          "output_type": "stream",
          "name": "stdout",
          "text": [
            "Downloading http://download.tensorflow.org/data/pose_classification/yoga_poses.zip to /tmp/yoga_poses.zip...\n",
            "Download complete.\n",
            "Extracting /tmp/yoga_poses.zip to /content/yoga_poses...\n",
            "Extraction complete.\n"
          ]
        }
      ],
      "source": [
        "import os\n",
        "import zipfile\n",
        "import urllib.request\n",
        "\n",
        "def download_file(url, destination):\n",
        "    \"\"\"\n",
        "    Download a file from a URL to a specified destination.\n",
        "\n",
        "    Parameters:\n",
        "    - url: The URL of the file to download.\n",
        "    - destination: The local path where the file will be saved.\n",
        "    \"\"\"\n",
        "    if not os.path.exists(destination):\n",
        "        print(f\"Downloading {url} to {destination}...\")\n",
        "        urllib.request.urlretrieve(url, destination)\n",
        "        print(\"Download complete.\")\n",
        "    else:\n",
        "        print(f\"{destination} already exists. Skipping download.\")\n",
        "\n",
        "def extract_zip(zip_path, extract_to):\n",
        "    \"\"\"\n",
        "    Extract a ZIP file to a specified directory.\n",
        "\n",
        "    Parameters:\n",
        "    - zip_path: The path to the ZIP file.\n",
        "    - extract_to: The directory where the files will be extracted.\n",
        "    \"\"\"\n",
        "    with zipfile.ZipFile(zip_path, 'r') as zip_ref:\n",
        "        print(f\"Extracting {zip_path} to {extract_to}...\")\n",
        "        zip_ref.extractall(extract_to)\n",
        "        print(\"Extraction complete.\")\n",
        "\n",
        "def main():\n",
        "    # URL of the dataset\n",
        "    dataset_url = \"http://download.tensorflow.org/data/pose_classification/yoga_poses.zip\"\n",
        "\n",
        "    # Local path where the ZIP file will be saved\n",
        "    zip_file_path = \"/tmp/yoga_poses.zip\"\n",
        "\n",
        "    # Directory where the dataset will be extracted\n",
        "    extract_to_dir = \"/content/yoga_poses\"\n",
        "\n",
        "    # Download the dataset\n",
        "    download_file(dataset_url, zip_file_path)\n",
        "\n",
        "    # Extract the dataset\n",
        "    extract_zip(zip_file_path, extract_to_dir)\n",
        "\n",
        "if __name__ == \"__main__\":\n",
        "    main()\n"
      ]
    }
  ]
}